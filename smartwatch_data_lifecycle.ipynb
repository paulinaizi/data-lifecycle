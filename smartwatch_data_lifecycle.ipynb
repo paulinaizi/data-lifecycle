{
 "cells": [
  {
   "cell_type": "markdown",
   "id": "9886e131-724d-440d-8901-e2e2042f36dd",
   "metadata": {},
   "source": [
    "# Data Lifecycle – From Collecting to Archiving"
   ]
  },
  {
   "cell_type": "markdown",
   "id": "791e5873-de74-4898-96e7-91ef6300f814",
   "metadata": {},
   "source": [
    "## 1. Data Loading\n",
    "\n",
    "Required libraries are imported, and the dataset is loaded into a pandas DataFrame."
   ]
  },
  {
   "cell_type": "code",
   "execution_count": 1,
   "id": "431cc006-d229-452e-830f-74c18137aa07",
   "metadata": {},
   "outputs": [],
   "source": [
    "import pandas as pd\n",
    "import matplotlib.pyplot as plt\n",
    "import seaborn as sns\n",
    "\n",
    "df = pd.read_csv(\"unclean_data/unclean_smartwatch_health_data.csv\")"
   ]
  },
  {
   "cell_type": "markdown",
   "id": "d473f0c6-1fdc-4dd3-ae8f-87d84b976a26",
   "metadata": {},
   "source": [
    "## 2. Inspecting Data\n",
    "\n",
    "This section focuses on exploring the raw dataset: its structure, missing values, and duplicates are examined. The aim is to assess data consistency and completeness before further processing and cleaning."
   ]
  },
  {
   "cell_type": "code",
   "execution_count": 2,
   "id": "06afbb50-fcc4-461c-8e2b-050b178915c5",
   "metadata": {},
   "outputs": [
    {
     "data": {
      "text/html": [
       "<div>\n",
       "<style scoped>\n",
       "    .dataframe tbody tr th:only-of-type {\n",
       "        vertical-align: middle;\n",
       "    }\n",
       "\n",
       "    .dataframe tbody tr th {\n",
       "        vertical-align: top;\n",
       "    }\n",
       "\n",
       "    .dataframe thead th {\n",
       "        text-align: right;\n",
       "    }\n",
       "</style>\n",
       "<table border=\"1\" class=\"dataframe\">\n",
       "  <thead>\n",
       "    <tr style=\"text-align: right;\">\n",
       "      <th></th>\n",
       "      <th>User ID</th>\n",
       "      <th>Heart Rate (BPM)</th>\n",
       "      <th>Blood Oxygen Level (%)</th>\n",
       "      <th>Step Count</th>\n",
       "      <th>Sleep Duration (hours)</th>\n",
       "      <th>Activity Level</th>\n",
       "      <th>Stress Level</th>\n",
       "    </tr>\n",
       "  </thead>\n",
       "  <tbody>\n",
       "    <tr>\n",
       "      <th>0</th>\n",
       "      <td>4174.0</td>\n",
       "      <td>58.939776</td>\n",
       "      <td>98.809650</td>\n",
       "      <td>5450.390578</td>\n",
       "      <td>7.167235622316564</td>\n",
       "      <td>Highly Active</td>\n",
       "      <td>1</td>\n",
       "    </tr>\n",
       "    <tr>\n",
       "      <th>1</th>\n",
       "      <td>NaN</td>\n",
       "      <td>NaN</td>\n",
       "      <td>98.532195</td>\n",
       "      <td>727.601610</td>\n",
       "      <td>6.538239375570314</td>\n",
       "      <td>Highly_Active</td>\n",
       "      <td>5</td>\n",
       "    </tr>\n",
       "    <tr>\n",
       "      <th>2</th>\n",
       "      <td>1860.0</td>\n",
       "      <td>247.803052</td>\n",
       "      <td>97.052954</td>\n",
       "      <td>2826.521994</td>\n",
       "      <td>ERROR</td>\n",
       "      <td>Highly Active</td>\n",
       "      <td>5</td>\n",
       "    </tr>\n",
       "    <tr>\n",
       "      <th>3</th>\n",
       "      <td>2294.0</td>\n",
       "      <td>40.000000</td>\n",
       "      <td>96.894213</td>\n",
       "      <td>13797.338044</td>\n",
       "      <td>7.367789630207228</td>\n",
       "      <td>Actve</td>\n",
       "      <td>3</td>\n",
       "    </tr>\n",
       "    <tr>\n",
       "      <th>4</th>\n",
       "      <td>2130.0</td>\n",
       "      <td>61.950165</td>\n",
       "      <td>98.583797</td>\n",
       "      <td>15679.067648</td>\n",
       "      <td>NaN</td>\n",
       "      <td>Highly_Active</td>\n",
       "      <td>6</td>\n",
       "    </tr>\n",
       "  </tbody>\n",
       "</table>\n",
       "</div>"
      ],
      "text/plain": [
       "   User ID  Heart Rate (BPM)  Blood Oxygen Level (%)    Step Count  \\\n",
       "0   4174.0         58.939776               98.809650   5450.390578   \n",
       "1      NaN               NaN               98.532195    727.601610   \n",
       "2   1860.0        247.803052               97.052954   2826.521994   \n",
       "3   2294.0         40.000000               96.894213  13797.338044   \n",
       "4   2130.0         61.950165               98.583797  15679.067648   \n",
       "\n",
       "  Sleep Duration (hours) Activity Level Stress Level  \n",
       "0      7.167235622316564  Highly Active            1  \n",
       "1      6.538239375570314  Highly_Active            5  \n",
       "2                  ERROR  Highly Active            5  \n",
       "3      7.367789630207228          Actve            3  \n",
       "4                    NaN  Highly_Active            6  "
      ]
     },
     "execution_count": 2,
     "metadata": {},
     "output_type": "execute_result"
    }
   ],
   "source": [
    "df.head()"
   ]
  },
  {
   "cell_type": "code",
   "execution_count": 3,
   "id": "c59b8a8d-3cbe-4f9a-a231-1bc2224f7753",
   "metadata": {},
   "outputs": [
    {
     "name": "stdout",
     "output_type": "stream",
     "text": [
      "<class 'pandas.core.frame.DataFrame'>\n",
      "RangeIndex: 10000 entries, 0 to 9999\n",
      "Data columns (total 7 columns):\n",
      " #   Column                  Non-Null Count  Dtype  \n",
      "---  ------                  --------------  -----  \n",
      " 0   User ID                 9799 non-null   float64\n",
      " 1   Heart Rate (BPM)        9600 non-null   float64\n",
      " 2   Blood Oxygen Level (%)  9700 non-null   float64\n",
      " 3   Step Count              9900 non-null   float64\n",
      " 4   Sleep Duration (hours)  9850 non-null   object \n",
      " 5   Activity Level          9800 non-null   object \n",
      " 6   Stress Level            9800 non-null   object \n",
      "dtypes: float64(4), object(3)\n",
      "memory usage: 547.0+ KB\n"
     ]
    }
   ],
   "source": [
    "df.info()"
   ]
  },
  {
   "cell_type": "markdown",
   "id": "c9bf55be-f6f7-4c38-add6-90b53b06b422",
   "metadata": {},
   "source": [
    "The dataset consists of 10,000 rows (as shown by the RangeIndex), but none of the columns are fully complete."
   ]
  },
  {
   "cell_type": "code",
   "execution_count": 4,
   "id": "704c6a3c-c2fd-4707-9eec-371af7474e66",
   "metadata": {},
   "outputs": [
    {
     "name": "stdout",
     "output_type": "stream",
     "text": [
      "                        Missing Values  Missing (%)\n",
      "User ID                            201         2.01\n",
      "Heart Rate (BPM)                   400         4.00\n",
      "Blood Oxygen Level (%)             300         3.00\n",
      "Step Count                         100         1.00\n",
      "Sleep Duration (hours)             150         1.50\n",
      "Activity Level                     200         2.00\n",
      "Stress Level                       200         2.00\n"
     ]
    }
   ],
   "source": [
    "null_counts = df.isnull().sum()\n",
    "null_percent = (null_counts / len(df)) * 100\n",
    "\n",
    "missing_data = pd.DataFrame({\n",
    "    'Missing Values': null_counts,\n",
    "    'Missing (%)': null_percent.round(2)\n",
    "})\n",
    "\n",
    "print(missing_data)"
   ]
  },
  {
   "cell_type": "markdown",
   "id": "002a826b-15c7-4cc5-ab41-0440c8c99c9e",
   "metadata": {},
   "source": [
    "This table shows the exact number and percentage of missing values in each column. All columns contain some missing values, but the proportion is relatively low - ranging from 1% to 4%."
   ]
  },
  {
   "cell_type": "code",
   "execution_count": 5,
   "id": "573be05a-3781-449f-9850-b351a479263c",
   "metadata": {},
   "outputs": [
    {
     "name": "stdout",
     "output_type": "stream",
     "text": [
      "0\n"
     ]
    }
   ],
   "source": [
    "print(df.duplicated().sum())"
   ]
  },
  {
   "cell_type": "markdown",
   "id": "522ab5b3-fd9c-4649-9742-fff1cc59baf0",
   "metadata": {},
   "source": [
    "The dataset does not contain any duplicated rows, which means no further action regarding duplicates is necessary."
   ]
  },
  {
   "cell_type": "markdown",
   "id": "777b8fb5-e163-488e-b35d-c3221341ffaf",
   "metadata": {},
   "source": [
    "## 3. Data Cleaning\n",
    "\n",
    "In this section, the dataset is cleaned to ensure overall data quality.\n",
    "* At the beginning, rows with missing user identifiers are removed, as they cannot be reliably linked to individual records. Additionally, the User ID data type is converted from float to integer, as this format is more appropriate for an identifier.\n",
    "* Next, basic statistics are examined to identify anomalies, inconsistencies, or unusual values that may require correction.\n",
    "* Then, each column is analyzed individually to apply more specific cleaning steps based on the type and nature of the data."
   ]
  },
  {
   "cell_type": "code",
   "execution_count": 6,
   "id": "2a96483f-90aa-4187-b7c3-effbb1d2d2ac",
   "metadata": {},
   "outputs": [],
   "source": [
    "df_clean = df.dropna(subset=['User ID']).reset_index(drop=True).copy()"
   ]
  },
  {
   "cell_type": "code",
   "execution_count": 7,
   "id": "cc9c813e-dad3-46ae-957f-e5d4b1a93b8b",
   "metadata": {},
   "outputs": [],
   "source": [
    "df_clean['User ID'] = df_clean['User ID'].astype(int)"
   ]
  },
  {
   "cell_type": "code",
   "execution_count": 8,
   "id": "ee4d055a-ab88-4f2d-8cf5-9cfd213486fa",
   "metadata": {},
   "outputs": [
    {
     "data": {
      "text/html": [
       "<div>\n",
       "<style scoped>\n",
       "    .dataframe tbody tr th:only-of-type {\n",
       "        vertical-align: middle;\n",
       "    }\n",
       "\n",
       "    .dataframe tbody tr th {\n",
       "        vertical-align: top;\n",
       "    }\n",
       "\n",
       "    .dataframe thead th {\n",
       "        text-align: right;\n",
       "    }\n",
       "</style>\n",
       "<table border=\"1\" class=\"dataframe\">\n",
       "  <thead>\n",
       "    <tr style=\"text-align: right;\">\n",
       "      <th></th>\n",
       "      <th>User ID</th>\n",
       "      <th>Heart Rate (BPM)</th>\n",
       "      <th>Blood Oxygen Level (%)</th>\n",
       "      <th>Step Count</th>\n",
       "      <th>Sleep Duration (hours)</th>\n",
       "      <th>Activity Level</th>\n",
       "      <th>Stress Level</th>\n",
       "    </tr>\n",
       "  </thead>\n",
       "  <tbody>\n",
       "    <tr>\n",
       "      <th>count</th>\n",
       "      <td>9799.000000</td>\n",
       "      <td>9405.000000</td>\n",
       "      <td>9503.000000</td>\n",
       "      <td>9701.000000</td>\n",
       "      <td>9654</td>\n",
       "      <td>9602</td>\n",
       "      <td>9603</td>\n",
       "    </tr>\n",
       "    <tr>\n",
       "      <th>unique</th>\n",
       "      <td>NaN</td>\n",
       "      <td>NaN</td>\n",
       "      <td>NaN</td>\n",
       "      <td>NaN</td>\n",
       "      <td>9415</td>\n",
       "      <td>6</td>\n",
       "      <td>11</td>\n",
       "    </tr>\n",
       "    <tr>\n",
       "      <th>top</th>\n",
       "      <td>NaN</td>\n",
       "      <td>NaN</td>\n",
       "      <td>NaN</td>\n",
       "      <td>NaN</td>\n",
       "      <td>ERROR</td>\n",
       "      <td>Seddentary</td>\n",
       "      <td>2</td>\n",
       "    </tr>\n",
       "    <tr>\n",
       "      <th>freq</th>\n",
       "      <td>NaN</td>\n",
       "      <td>NaN</td>\n",
       "      <td>NaN</td>\n",
       "      <td>NaN</td>\n",
       "      <td>240</td>\n",
       "      <td>1639</td>\n",
       "      <td>992</td>\n",
       "    </tr>\n",
       "    <tr>\n",
       "      <th>mean</th>\n",
       "      <td>3007.480253</td>\n",
       "      <td>76.026305</td>\n",
       "      <td>97.844952</td>\n",
       "      <td>7002.117395</td>\n",
       "      <td>NaN</td>\n",
       "      <td>NaN</td>\n",
       "      <td>NaN</td>\n",
       "    </tr>\n",
       "    <tr>\n",
       "      <th>std</th>\n",
       "      <td>1150.581542</td>\n",
       "      <td>19.386211</td>\n",
       "      <td>1.730815</td>\n",
       "      <td>6908.154798</td>\n",
       "      <td>NaN</td>\n",
       "      <td>NaN</td>\n",
       "      <td>NaN</td>\n",
       "    </tr>\n",
       "    <tr>\n",
       "      <th>min</th>\n",
       "      <td>1001.000000</td>\n",
       "      <td>40.000000</td>\n",
       "      <td>90.791208</td>\n",
       "      <td>0.910138</td>\n",
       "      <td>NaN</td>\n",
       "      <td>NaN</td>\n",
       "      <td>NaN</td>\n",
       "    </tr>\n",
       "    <tr>\n",
       "      <th>25%</th>\n",
       "      <td>1997.500000</td>\n",
       "      <td>64.914467</td>\n",
       "      <td>96.666721</td>\n",
       "      <td>2021.265126</td>\n",
       "      <td>NaN</td>\n",
       "      <td>NaN</td>\n",
       "      <td>NaN</td>\n",
       "    </tr>\n",
       "    <tr>\n",
       "      <th>50%</th>\n",
       "      <td>2998.000000</td>\n",
       "      <td>75.208240</td>\n",
       "      <td>98.014441</td>\n",
       "      <td>4977.574718</td>\n",
       "      <td>NaN</td>\n",
       "      <td>NaN</td>\n",
       "      <td>NaN</td>\n",
       "    </tr>\n",
       "    <tr>\n",
       "      <th>75%</th>\n",
       "      <td>4004.000000</td>\n",
       "      <td>85.239576</td>\n",
       "      <td>99.374389</td>\n",
       "      <td>9750.114078</td>\n",
       "      <td>NaN</td>\n",
       "      <td>NaN</td>\n",
       "      <td>NaN</td>\n",
       "    </tr>\n",
       "    <tr>\n",
       "      <th>max</th>\n",
       "      <td>4999.000000</td>\n",
       "      <td>296.593970</td>\n",
       "      <td>100.000000</td>\n",
       "      <td>62486.690753</td>\n",
       "      <td>NaN</td>\n",
       "      <td>NaN</td>\n",
       "      <td>NaN</td>\n",
       "    </tr>\n",
       "  </tbody>\n",
       "</table>\n",
       "</div>"
      ],
      "text/plain": [
       "            User ID  Heart Rate (BPM)  Blood Oxygen Level (%)    Step Count  \\\n",
       "count   9799.000000       9405.000000             9503.000000   9701.000000   \n",
       "unique          NaN               NaN                     NaN           NaN   \n",
       "top             NaN               NaN                     NaN           NaN   \n",
       "freq            NaN               NaN                     NaN           NaN   \n",
       "mean    3007.480253         76.026305               97.844952   7002.117395   \n",
       "std     1150.581542         19.386211                1.730815   6908.154798   \n",
       "min     1001.000000         40.000000               90.791208      0.910138   \n",
       "25%     1997.500000         64.914467               96.666721   2021.265126   \n",
       "50%     2998.000000         75.208240               98.014441   4977.574718   \n",
       "75%     4004.000000         85.239576               99.374389   9750.114078   \n",
       "max     4999.000000        296.593970              100.000000  62486.690753   \n",
       "\n",
       "       Sleep Duration (hours) Activity Level Stress Level  \n",
       "count                    9654           9602         9603  \n",
       "unique                   9415              6           11  \n",
       "top                     ERROR     Seddentary            2  \n",
       "freq                      240           1639          992  \n",
       "mean                      NaN            NaN          NaN  \n",
       "std                       NaN            NaN          NaN  \n",
       "min                       NaN            NaN          NaN  \n",
       "25%                       NaN            NaN          NaN  \n",
       "50%                       NaN            NaN          NaN  \n",
       "75%                       NaN            NaN          NaN  \n",
       "max                       NaN            NaN          NaN  "
      ]
     },
     "execution_count": 8,
     "metadata": {},
     "output_type": "execute_result"
    }
   ],
   "source": [
    "df_clean.describe(include='all')"
   ]
  },
  {
   "cell_type": "markdown",
   "id": "0b56b6cd-c324-404b-9750-c7ada926543f",
   "metadata": {},
   "source": [
    "## a) Categorical columns\n",
    "Categorical columns are first reviewed by checking the current number of missing values and inspecting unique entries in each column."
   ]
  },
  {
   "cell_type": "markdown",
   "id": "f4f1408e-979b-450f-974d-52749c83ef95",
   "metadata": {},
   "source": [
    "### Activity Level"
   ]
  },
  {
   "cell_type": "code",
   "execution_count": 9,
   "id": "78f3e277-056f-4e2c-ae5d-3d528e792c71",
   "metadata": {},
   "outputs": [
    {
     "name": "stdout",
     "output_type": "stream",
     "text": [
      "197\n"
     ]
    }
   ],
   "source": [
    "print(df_clean['Activity Level'].isnull().sum())"
   ]
  },
  {
   "cell_type": "code",
   "execution_count": 10,
   "id": "a30d77ab-6951-4964-823c-1d51c4dcf34e",
   "metadata": {},
   "outputs": [
    {
     "data": {
      "text/plain": [
       "array(['Highly Active', 'Actve', 'Highly_Active', 'Seddentary',\n",
       "       'Sedentary', 'Active', nan], dtype=object)"
      ]
     },
     "execution_count": 10,
     "metadata": {},
     "output_type": "execute_result"
    }
   ],
   "source": [
    "df_clean['Activity Level'].unique()"
   ]
  },
  {
   "cell_type": "code",
   "execution_count": 11,
   "id": "acee3d48-77bf-4b9c-8c70-0e3e64092da1",
   "metadata": {},
   "outputs": [],
   "source": [
    "df_clean['Activity Level'] = df_clean['Activity Level'].replace({\n",
    "    'Actve': 'Active',\n",
    "    'Highly_Active': 'Highly Active',\n",
    "    'Seddentary': 'Sedentary'\n",
    "})"
   ]
  },
  {
   "cell_type": "code",
   "execution_count": 12,
   "id": "9e0c0e4e-e416-44d4-9fd1-9f6c59c9db51",
   "metadata": {},
   "outputs": [],
   "source": [
    "df_clean['Activity Level'] = df_clean['Activity Level'].fillna('Unknown')"
   ]
  },
  {
   "cell_type": "markdown",
   "id": "f601531e-09f8-44d2-a0e7-349d24fd5744",
   "metadata": {},
   "source": [
    "**Summary:** The column contained 197 missing values and some misspelled categories, which were corrected.\n",
    "Missing values were filled with the label 'Unknown' due to the lack of information on how activity levels were originally assigned."
   ]
  },
  {
   "cell_type": "markdown",
   "id": "2b6454c7-ce70-441f-8d2c-ebe2da3d9523",
   "metadata": {},
   "source": [
    "### Stress Level"
   ]
  },
  {
   "cell_type": "code",
   "execution_count": 13,
   "id": "ec560d6e-c2c1-4abe-b710-7351db856a8d",
   "metadata": {},
   "outputs": [
    {
     "name": "stdout",
     "output_type": "stream",
     "text": [
      "196\n"
     ]
    }
   ],
   "source": [
    "print(df_clean['Stress Level'].isnull().sum())"
   ]
  },
  {
   "cell_type": "code",
   "execution_count": 14,
   "id": "9076763e-3c82-451e-91e6-743ee8a7c67b",
   "metadata": {},
   "outputs": [
    {
     "data": {
      "text/plain": [
       "array(['1', '5', '3', '6', '10', '2', '8', '9', nan, '4', 'Very High',\n",
       "       '7'], dtype=object)"
      ]
     },
     "execution_count": 14,
     "metadata": {},
     "output_type": "execute_result"
    }
   ],
   "source": [
    "df_clean['Stress Level'].unique()"
   ]
  },
  {
   "cell_type": "code",
   "execution_count": 15,
   "id": "8e68bbf0-2274-4cb0-b9d5-b23b65e3cfb9",
   "metadata": {},
   "outputs": [],
   "source": [
    "df_clean['Stress Level'] = df_clean['Stress Level'].replace('Very High', '10')\n",
    "df_clean['Stress Level'] = pd.to_numeric(df_clean['Stress Level'], errors='coerce')"
   ]
  },
  {
   "cell_type": "code",
   "execution_count": 16,
   "id": "986319a1-f2af-4630-8920-ab36773a1f4f",
   "metadata": {},
   "outputs": [],
   "source": [
    "df_clean['Stress Level'] = df_clean['Stress Level'].fillna(df_clean['Stress Level'].median())"
   ]
  },
  {
   "cell_type": "code",
   "execution_count": 17,
   "id": "7a8be250-df9c-4a48-a9e4-e93423e17ac2",
   "metadata": {},
   "outputs": [],
   "source": [
    "df_clean['Stress Level'] = df_clean['Stress Level'].astype(int)"
   ]
  },
  {
   "cell_type": "markdown",
   "id": "57cdc53f-a918-4960-abce-2e7c92a7c9dc",
   "metadata": {},
   "source": [
    "**Summary:** The column contained 196 missing values. One of the text labels 'Very high', was replaced with the numerical value '10'.\n",
    "The column was then converted to a numeric type, and missing values were imputed using the median. Finally, the entire column was cast to the integer type to match the expected format."
   ]
  },
  {
   "cell_type": "markdown",
   "id": "bf7e40d6-07a8-449c-b758-5ada355b8113",
   "metadata": {},
   "source": [
    "## b) Numerical columns\n",
    "Numerical columns are analyzed by checking the number of missing values, visualizing distributions using boxplots, and calculating the interquartile range (IQR) to detect potential outliers."
   ]
  },
  {
   "cell_type": "code",
   "execution_count": 18,
   "id": "9f2b6039-c0d7-46d1-8656-3d7d982c3496",
   "metadata": {},
   "outputs": [],
   "source": [
    "def show_boxplot(df, column):\n",
    "    plt.figure(figsize=(5, 5))\n",
    "    sns.boxplot(y=df[column])\n",
    "    plt.title(column)\n",
    "    plt.grid(True, linestyle='--', alpha=0.7)\n",
    "    plt.show()"
   ]
  },
  {
   "cell_type": "code",
   "execution_count": 19,
   "id": "3bef761b-ad02-4bd6-bdc7-1b53e8ca394b",
   "metadata": {},
   "outputs": [],
   "source": [
    "def detect_outliers_iqr(df, column, verbose=True):\n",
    "    Q1 = df[column].quantile(0.25)\n",
    "    Q3 = df[column].quantile(0.75)\n",
    "    IQR = Q3 - Q1\n",
    "\n",
    "    lower = Q1 - 1.5 * IQR\n",
    "    upper = Q3 + 1.5 * IQR\n",
    "\n",
    "    outliers = df[(df[column] < lower) | (df[column] > upper)]\n",
    "\n",
    "    if verbose:\n",
    "        print(f\"Column: {column}\")\n",
    "        print(f\"Lower bound: {lower}\")\n",
    "        print(f\"Upper bound: {upper}\")\n",
    "        print(f\"Number of outliers: {outliers.shape[0]}\")\n",
    "\n",
    "    return outliers, lower, upper"
   ]
  },
  {
   "cell_type": "markdown",
   "id": "c6686c44-cfea-4478-8b80-a6c4532e52fb",
   "metadata": {},
   "source": [
    "### Heart Rate"
   ]
  },
  {
   "cell_type": "code",
   "execution_count": 20,
   "id": "cdc5ad46-45b6-4fb4-b62f-b370f2ddc48b",
   "metadata": {},
   "outputs": [
    {
     "name": "stdout",
     "output_type": "stream",
     "text": [
      "394\n"
     ]
    }
   ],
   "source": [
    "print(df_clean['Heart Rate (BPM)'].isnull().sum())"
   ]
  },
  {
   "cell_type": "code",
   "execution_count": 21,
   "id": "2dbb3c90-9930-4286-8388-9c03d8fee7cb",
   "metadata": {},
   "outputs": [
    {
     "data": {
      "image/png": "[encoded data removed]",
      "text/plain": [
       "<Figure size 500x500 with 1 Axes>"
      ]
     },
     "metadata": {},
     "output_type": "display_data"
    }
   ],
   "source": [
    "show_boxplot(df_clean, 'Heart Rate (BPM)')"
   ]
  },
  {
   "cell_type": "code",
   "execution_count": 22,
   "id": "2bdadbdf-ab79-4597-9651-f1c4bf0db623",
   "metadata": {},
   "outputs": [
    {
     "name": "stdout",
     "output_type": "stream",
     "text": [
      "Column: Heart Rate (BPM)\n",
      "Lower bound: 34.4268039770686\n",
      "Upper bound: 115.72723878397628\n",
      "Number of outliers: 71\n"
     ]
    }
   ],
   "source": [
    "outliers, lower_bound, upper_bound = detect_outliers_iqr(df_clean, 'Heart Rate (BPM)')"
   ]
  },
  {
   "cell_type": "code",
   "execution_count": 23,
   "id": "887ad490-0103-4a99-93b1-438bd05a60b1",
   "metadata": {},
   "outputs": [
    {
     "name": "stdout",
     "output_type": "stream",
     "text": [
      "38\n"
     ]
    }
   ],
   "source": [
    "print((df_clean['Heart Rate (BPM)'] > 220).sum())"
   ]
  },
  {
   "cell_type": "code",
   "execution_count": 24,
   "id": "34a01380-de36-49af-8ada-1f54c92eba04",
   "metadata": {},
   "outputs": [],
   "source": [
    "df_clean = df_clean[\n",
    "    (df_clean['Heart Rate (BPM)'] <= 220) | (df_clean['Heart Rate (BPM)'].isna())\n",
    "]"
   ]
  },
  {
   "cell_type": "code",
   "execution_count": 25,
   "id": "02b2235b-1d7b-4917-817c-86caa04ac976",
   "metadata": {},
   "outputs": [],
   "source": [
    "df_clean['Heart Rate (BPM)'] = df_clean['Heart Rate (BPM)'].fillna(df_clean['Heart Rate (BPM)'].median())"
   ]
  },
  {
   "cell_type": "code",
   "execution_count": 26,
   "id": "c3208078-979d-4a97-9b16-0ccb006c94f9",
   "metadata": {},
   "outputs": [],
   "source": [
    "df_clean['Heart Rate (BPM)'] = df_clean['Heart Rate (BPM)'].astype(int)"
   ]
  },
  {
   "cell_type": "markdown",
   "id": "673b7609-0e5e-4993-bcab-f76956d69387",
   "metadata": {},
   "source": [
    "**Summary:** The column contained 394 missing values. IQR analysis identified 71 outliers. Records with unnaturally high values (above 220 BPM), considered physiologically impossible, were removed. Missing values were imputed using the median. The column was then cast to integer type, as heart rate is typically reported as a whole number."
   ]
  },
  {
   "cell_type": "markdown",
   "id": "92e87baf-9faf-4805-aacf-fea635ac9729",
   "metadata": {},
   "source": [
    "### Blood Oxygen Level"
   ]
  },
  {
   "cell_type": "code",
   "execution_count": 27,
   "id": "e6d7524f-a551-466a-83c1-6d0c876f8034",
   "metadata": {},
   "outputs": [
    {
     "name": "stdout",
     "output_type": "stream",
     "text": [
      "294\n"
     ]
    }
   ],
   "source": [
    "print(df_clean['Blood Oxygen Level (%)'].isnull().sum())"
   ]
  },
  {
   "cell_type": "code",
   "execution_count": 28,
   "id": "3359cb3d-77cd-40f3-9ff6-be0f274c3907",
   "metadata": {},
   "outputs": [
    {
     "data": {
      "image/png": "[encoded data removed]",
      "text/plain": [
       "<Figure size 500x500 with 1 Axes>"
      ]
     },
     "metadata": {},
     "output_type": "display_data"
    }
   ],
   "source": [
    "show_boxplot(df_clean, 'Blood Oxygen Level (%)')"
   ]
  },
  {
   "cell_type": "code",
   "execution_count": 29,
   "id": "437672a1-e64a-48ee-8f0a-d6d4710c3051",
   "metadata": {},
   "outputs": [
    {
     "name": "stdout",
     "output_type": "stream",
     "text": [
      "Column: Blood Oxygen Level (%)\n",
      "Lower bound: 92.60546113250149\n",
      "Upper bound: 103.43863409274815\n",
      "Number of outliers: 29\n"
     ]
    }
   ],
   "source": [
    "outliers, lower_bound, upper_bound = detect_outliers_iqr(df_clean, 'Blood Oxygen Level (%)')"
   ]
  },
  {
   "cell_type": "code",
   "execution_count": 30,
   "id": "4fa46c2b-de6c-4363-bc9d-828f3b1da1d8",
   "metadata": {},
   "outputs": [],
   "source": [
    "df_clean['Blood Oxygen Level (%)'] = df_clean['Blood Oxygen Level (%)'].fillna(df_clean['Blood Oxygen Level (%)'].median())"
   ]
  },
  {
   "cell_type": "code",
   "execution_count": 31,
   "id": "aaa6fe04-67f0-4ceb-9a0a-303d7a01e682",
   "metadata": {},
   "outputs": [],
   "source": [
    "df_clean['Blood Oxygen Level (%)'] = df_clean['Blood Oxygen Level (%)'].round(1)"
   ]
  },
  {
   "cell_type": "markdown",
   "id": "4de7a008-bd57-4542-8b5a-735fc4d82dbb",
   "metadata": {},
   "source": [
    "**Summary:** The column contained 294 missing values. IQR analysis identified 29 outliers. Values below 95% may indicate hypoxemia, which could reflect rare but real conditions. For this reason, no outliers were removed. Missing values were imputed using the mean. Values were rounded to one decimal place for consistency and readability."
   ]
  },
  {
   "cell_type": "markdown",
   "id": "e154bd5c-006f-4d63-9edc-c17fda2c9bf8",
   "metadata": {},
   "source": [
    "### Step Count"
   ]
  },
  {
   "cell_type": "code",
   "execution_count": 32,
   "id": "950ab4d7-081e-436c-81db-33e95d1d53e9",
   "metadata": {},
   "outputs": [
    {
     "name": "stdout",
     "output_type": "stream",
     "text": [
      "97\n"
     ]
    }
   ],
   "source": [
    "print(df_clean['Step Count'].isnull().sum())"
   ]
  },
  {
   "cell_type": "code",
   "execution_count": 33,
   "id": "e2a51309-8ed1-4122-a334-2252192470b1",
   "metadata": {},
   "outputs": [
    {
     "data": {
      "image/png": "[encoded data removed]",
      "text/plain": [
       "<Figure size 500x500 with 1 Axes>"
      ]
     },
     "metadata": {},
     "output_type": "display_data"
    }
   ],
   "source": [
    "show_boxplot(df_clean, 'Step Count')"
   ]
  },
  {
   "cell_type": "code",
   "execution_count": 34,
   "id": "793ba89d-d704-4160-a42b-983adde6291f",
   "metadata": {},
   "outputs": [
    {
     "data": {
      "image/png": "[encoded data removed]",
      "text/plain": [
       "<Figure size 800x500 with 1 Axes>"
      ]
     },
     "metadata": {},
     "output_type": "display_data"
    }
   ],
   "source": [
    "plt.figure(figsize=(8, 5))\n",
    "sns.boxplot(x='Activity Level', y='Step Count', data=df_clean, order=['Sedentary', 'Active', 'Highly Active'])\n",
    "plt.title('Step Count Distribution by Activity Level')\n",
    "plt.grid(True, linestyle='--', alpha=0.7)\n",
    "plt.show()"
   ]
  },
  {
   "cell_type": "code",
   "execution_count": 35,
   "id": "0a49d83a-be1b-4491-b566-6c66b0fa935a",
   "metadata": {},
   "outputs": [
    {
     "name": "stdout",
     "output_type": "stream",
     "text": [
      "Column: Step Count\n",
      "Lower bound: -9571.908690545717\n",
      "Upper bound: 21335.89102849443\n",
      "Number of outliers: 436\n"
     ]
    }
   ],
   "source": [
    "outliers, lower_bound, upper_bound = detect_outliers_iqr(df_clean, 'Step Count')"
   ]
  },
  {
   "cell_type": "code",
   "execution_count": 36,
   "id": "9d5eb7e6-aa16-4b5c-acaf-14a0f8b6b9d4",
   "metadata": {},
   "outputs": [],
   "source": [
    "def classify_activity_level(steps):\n",
    "    if steps < 5000:\n",
    "        return 'Sedentary'\n",
    "    elif steps < 7499:\n",
    "        return 'Low Active'\n",
    "    elif steps < 9999:\n",
    "        return 'Active'\n",
    "    else:\n",
    "        return 'Highly Active'\n",
    "\n",
    "df_clean['Activity Level (Steps)'] = df_clean['Step Count'].apply(classify_activity_level)"
   ]
  },
  {
   "cell_type": "code",
   "execution_count": 37,
   "id": "55983e54-2230-4af2-aee8-0a02ce4ea673",
   "metadata": {},
   "outputs": [],
   "source": [
    "cols = df_clean.columns.tolist()\n",
    "i = cols.index('Activity Level')\n",
    "cols.remove('Activity Level (Steps)')\n",
    "cols.insert(i + 1, 'Activity Level (Steps)')\n",
    "df_clean = df_clean[cols]"
   ]
  },
  {
   "cell_type": "code",
   "execution_count": 38,
   "id": "4bd35982-70be-4670-915e-f2b3eb4e2721",
   "metadata": {},
   "outputs": [],
   "source": [
    "df_clean = df_clean[\n",
    "    (df_clean['Step Count'] <= 60000) | (df_clean['Step Count'].isna())\n",
    "]"
   ]
  },
  {
   "cell_type": "code",
   "execution_count": 39,
   "id": "c351678f-e965-4c2f-b233-686e28f87098",
   "metadata": {},
   "outputs": [],
   "source": [
    "df_clean['Step Count'] = df_clean['Step Count'].fillna(df_clean['Step Count'].median())"
   ]
  },
  {
   "cell_type": "code",
   "execution_count": 40,
   "id": "779cdb56-0a6e-45e2-8c80-9a42c08ac532",
   "metadata": {},
   "outputs": [],
   "source": [
    "df_clean['Step Count'] = df_clean['Step Count'].astype(int)"
   ]
  },
  {
   "cell_type": "markdown",
   "id": "184707ae-b534-429e-a68c-61fb2b1cd281",
   "metadata": {},
   "source": [
    "**Summary:** The column contained 97 missing values. IQR analysis identified 436 outliers, including some entries exceeding 60,000 steps per day. Analysis showed weak alignment between Step Count and the original Activity Level column, suggesting that activity level was not based on step data. To improve interpretability, a new classification - Activity Level (Steps) was created based on step count ranges. Only extreme outliers (>60,000) were removed. Missing values were imputed with the median. Finally, the values were cast to integers, as step counts are always whole numbers."
   ]
  },
  {
   "cell_type": "markdown",
   "id": "a3f0bf4a-a120-4528-96a5-6173dc2b4736",
   "metadata": {},
   "source": [
    "### Sleep Duration"
   ]
  },
  {
   "cell_type": "code",
   "execution_count": 41,
   "id": "addf8663-e8a9-47e5-859d-638201877c57",
   "metadata": {},
   "outputs": [],
   "source": [
    "df_clean['Sleep Duration (hours)'] = pd.to_numeric(df_clean['Sleep Duration (hours)'], errors='coerce')"
   ]
  },
  {
   "cell_type": "code",
   "execution_count": 42,
   "id": "66299b79-e185-46a6-8cee-34160f6623e5",
   "metadata": {},
   "outputs": [
    {
     "name": "stdout",
     "output_type": "stream",
     "text": [
      "383\n"
     ]
    }
   ],
   "source": [
    "print(df_clean['Sleep Duration (hours)'].isnull().sum())"
   ]
  },
  {
   "cell_type": "code",
   "execution_count": 43,
   "id": "4bb7b7d3-ad0d-435c-b6cd-c94b81a74d02",
   "metadata": {},
   "outputs": [
    {
     "data": {
      "image/png": "[encoded data removed]",
      "text/plain": [
       "<Figure size 500x500 with 1 Axes>"
      ]
     },
     "metadata": {},
     "output_type": "display_data"
    }
   ],
   "source": [
    "show_boxplot(df_clean, 'Sleep Duration (hours)')"
   ]
  },
  {
   "cell_type": "code",
   "execution_count": 44,
   "id": "6f4aeede-6952-4982-b6a0-e3f909828a6d",
   "metadata": {},
   "outputs": [
    {
     "name": "stdout",
     "output_type": "stream",
     "text": [
      "Column: Sleep Duration (hours)\n",
      "Lower bound: 2.4269443831955333\n",
      "Upper bound: 10.5901987261708\n",
      "Number of outliers: 44\n"
     ]
    }
   ],
   "source": [
    "outliers, lower_bound, upper_bound = detect_outliers_iqr(df_clean, 'Sleep Duration (hours)')"
   ]
  },
  {
   "cell_type": "code",
   "execution_count": 45,
   "id": "90a63205-b1a8-479b-bc3f-ff59f9a98956",
   "metadata": {},
   "outputs": [],
   "source": [
    "df_clean = df_clean[\n",
    "    (df_clean['Sleep Duration (hours)'] >= lower_bound) | (df_clean['Sleep Duration (hours)'].isna())\n",
    "]"
   ]
  },
  {
   "cell_type": "code",
   "execution_count": 46,
   "id": "ed027c8c-057d-4a35-bf63-1c128b8720b8",
   "metadata": {},
   "outputs": [],
   "source": [
    "df_clean['Sleep Duration (hours)'] = df_clean['Sleep Duration (hours)'].fillna(df_clean['Sleep Duration (hours)'].mean())"
   ]
  },
  {
   "cell_type": "code",
   "execution_count": 47,
   "id": "999c4d66-a1fe-4784-86c5-b5b635183900",
   "metadata": {},
   "outputs": [],
   "source": [
    "df_clean['Sleep Duration (hours)'] = df_clean['Sleep Duration (hours)'].round(1)"
   ]
  },
  {
   "cell_type": "markdown",
   "id": "b2fb317c-ee30-4664-8d5c-dee4157fbdea",
   "metadata": {},
   "source": [
    "**Summary:** The column initially contained non-numeric entries, which were converted to a numeric data type to enable proper analysis. The column contained 383 missing values. IQR analysis identified 44 outliers, including negative values, which are not valid for sleep duration. Only values below the lower bound (2.4 hours) were removed. Missing data was imputed using the mean. Values were rounded to one decimal place to improve readability."
   ]
  },
  {
   "cell_type": "markdown",
   "id": "7aacf9d1-f50e-43de-8d6d-e52f829defd8",
   "metadata": {},
   "source": [
    "## Cleaning Summary"
   ]
  },
  {
   "cell_type": "code",
   "execution_count": 48,
   "id": "68510156-374d-4556-89a2-4e938b0072e9",
   "metadata": {},
   "outputs": [
    {
     "name": "stdout",
     "output_type": "stream",
     "text": [
      "<class 'pandas.core.frame.DataFrame'>\n",
      "Index: 9735 entries, 0 to 9798\n",
      "Data columns (total 8 columns):\n",
      " #   Column                  Non-Null Count  Dtype  \n",
      "---  ------                  --------------  -----  \n",
      " 0   User ID                 9735 non-null   int64  \n",
      " 1   Heart Rate (BPM)        9735 non-null   int64  \n",
      " 2   Blood Oxygen Level (%)  9735 non-null   float64\n",
      " 3   Step Count              9735 non-null   int64  \n",
      " 4   Sleep Duration (hours)  9735 non-null   float64\n",
      " 5   Activity Level          9735 non-null   object \n",
      " 6   Activity Level (Steps)  9735 non-null   object \n",
      " 7   Stress Level            9735 non-null   int64  \n",
      "dtypes: float64(2), int64(4), object(2)\n",
      "memory usage: 684.5+ KB\n"
     ]
    }
   ],
   "source": [
    "df_clean.info()"
   ]
  },
  {
   "cell_type": "markdown",
   "id": "ff5852b3-9941-40f1-9642-5626a25d89ea",
   "metadata": {},
   "source": [
    "After applying individual cleaning steps to each column, the dataset was reviewed using df_clean.info() to confirm that all missing values had been addressed and data types were consistent.\n",
    "\n",
    "For handling missing values:\n",
    "\n",
    "* The mean was used when the distribution was symmetric and free of extreme outliers.\n",
    "* The median was preferred in cases of skewed distributions, as it is more robust to extreme values.\n",
    "\n",
    "Outliers were identified using the Interquartile Range (IQR) method. In most cases, only extreme or clearly invalid values (e.g. negative durations or heart rates exceeding physiological limits) were removed. In other cases, rare values that could still reflect realistic scenarios were retained for analysis.\n",
    "\n",
    "Additionally, selected columns were cast to integer type where appropriate (e.g. stress level, step count) to reflect their discrete nature. Values in columns such as sleep duration and blood oxygen level were rounded to one decimal place to improve readability and ensure consistent formatting.\n",
    "\n",
    "The resulting dataset contains complete and cleaned data, ready for analysis."
   ]
  },
  {
   "cell_type": "markdown",
   "id": "9000d4b4-220c-4adf-85e7-a3c7fb30b65a",
   "metadata": {},
   "source": [
    "## 4. Exporting and Archiving Cleaned Data\n",
    "After cleaning, the processed dataset is saved to a dedicated folder for easy access and future use. Additionally, it is archived into a ZIP file to facilitate sharing and storage."
   ]
  },
  {
   "cell_type": "code",
   "execution_count": 49,
   "id": "23af55ae-1341-4b3f-a6e1-00b8410dad25",
   "metadata": {},
   "outputs": [],
   "source": [
    "import zipfile\n",
    "import os\n",
    "\n",
    "data_folder = \"clean_data\"\n",
    "file_name = \"clean_smartwatch_health_data.csv\"\n",
    "archive_file = \"smartwatch_health_data_archive.zip\"\n",
    "dst_file = os.path.join(data_folder, file_name)\n",
    "\n",
    "if not os.path.exists(data_folder):\n",
    "    os.makedirs(data_folder)\n",
    "\n",
    "df_clean.to_csv(dst_file, index=False)\n",
    "\n",
    "with zipfile.ZipFile(archive_file, \"w\") as zipf:\n",
    "    zipf.write(dst_file)"
   ]
  },
  {
   "cell_type": "markdown",
   "id": "3aa979a4-d5f4-418e-a307-e7340734f6c0",
   "metadata": {},
   "source": [
    "## 5. Summary\n",
    "This project demonstrated the full data lifecycle using smartwatch health data - from importing and inspecting the raw dataset, through detailed cleaning and handling of missing and outlier values, to saving the final cleaned version."
   ]
  }
 ],
 "metadata": {
  "kernelspec": {
   "display_name": "Python [conda env:base] *",
   "language": "python",
   "name": "conda-base-py"
  },
  "language_info": {
   "codemirror_mode": {
    "name": "ipython",
    "version": 3
   },
   "file_extension": ".py",
   "mimetype": "text/x-python",
   "name": "python",
   "nbconvert_exporter": "python",
   "pygments_lexer": "ipython3",
   "version": "3.13.5"
  }
 },
 "nbformat": 4,
 "nbformat_minor": 5
}
